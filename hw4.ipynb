{
 "cells": [
  {
   "cell_type": "markdown",
   "metadata": {},
   "source": [
    "# XOR\n",
    "하나의 히든 레이어를 도입한다.<br>\n",
    "input layer는 2개의 노드 + 1개의 바이어스<br>\n",
    "hidden layer는 3개의 노드 + 1개의 바이어스<br>\n",
    "output은 하나의 노드로 한다."
   ]
  },
  {
   "cell_type": "code",
   "execution_count": 1,
   "metadata": {},
   "outputs": [],
   "source": [
    "import numpy as np"
   ]
  },
  {
   "cell_type": "code",
   "execution_count": 2,
   "metadata": {},
   "outputs": [],
   "source": [
    "X = [[0,0,1],[1,0,1],[0,1,1],[1,1,1]] # 세번째 항은 bias\n",
    "y = np.array([0,1,1,0])"
   ]
  },
  {
   "cell_type": "markdown",
   "metadata": {},
   "source": [
    "위의 데이터를 neural networks에서 backpropagation을 이용하여으로 학습시켜라."
   ]
  },
  {
   "cell_type": "code",
   "execution_count": 3,
   "metadata": {},
   "outputs": [],
   "source": [
    "def f(x): \n",
    "    return 1/(1+np.exp(-x)) # sigmoid\n",
    "\n",
    "inp, hid, outp = 3,4,1 # 3 input nodes,4 hidden nodes, a output node\n",
    "np.random.seed(0) # 초기 w, omega 임의 결정 + 고정\n",
    "w = 2*np.random.random((inp,hid))-1 # hidden nodes 만큼 random number, input nodes 만큼 반복, input 가중치\n",
    "omega = 2*np.random.random((hid,outp))-1 # output nodes 만큼 random number, hidden nodes 만큼 반복, hidden 가중치"
   ]
  },
  {
   "cell_type": "code",
   "execution_count": 6,
   "metadata": {
    "scrolled": false
   },
   "outputs": [
    {
     "name": "stdout",
     "output_type": "stream",
     "text": [
      "[0.00563078]\n",
      "[0.99119331]\n",
      "[0.99134938]\n",
      "[0.01029814]\n"
     ]
    }
   ],
   "source": [
    "dh = [0,0,0,0] \n",
    "eta = 1\n",
    "for n in range(10000):\n",
    "    E = 0 # error_sum\n",
    "    for i in range(len(X)): # 경우의 수 연산\n",
    "        neth = np.dot(X[i],w) \n",
    "        h = f(neth) # neth sigmoid로 분류\n",
    "        neto = np.dot(h,omega)\n",
    "        o = f(neto) # neto sigmoid로 분류\n",
    "        if (n==9999):\n",
    "            print(o)\n",
    "        E += (o-y[i])**2 # MSE\n",
    "        do = (o-y[i])*f(neto)*(1-f(neto)) # d(sigmoid(x))/dx = (sigmoid(x))*(1-(sigmoid(x)))\n",
    "        for j in range(hid): # hidden 가중치 변화\n",
    "            dh[j] = do*omega[j]*f(neth[j])*(1-f(neth[j]))\n",
    "            omega[j] += -eta*do*h[j]\n",
    "            for k in range(inp): # input 가중치 변화\n",
    "                w[k][j] += -eta*dh[j]*X[i][k]"
   ]
  }
 ],
 "metadata": {
  "kernelspec": {
   "display_name": "Python 3",
   "language": "python",
   "name": "python3"
  },
  "language_info": {
   "codemirror_mode": {
    "name": "ipython",
    "version": 3
   },
   "file_extension": ".py",
   "mimetype": "text/x-python",
   "name": "python",
   "nbconvert_exporter": "python",
   "pygments_lexer": "ipython3",
   "version": "3.8.5"
  }
 },
 "nbformat": 4,
 "nbformat_minor": 4
}
