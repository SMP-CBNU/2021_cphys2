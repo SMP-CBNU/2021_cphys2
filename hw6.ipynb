{
 "cells": [
  {
   "cell_type": "markdown",
   "metadata": {},
   "source": [
    "2개의 히든 레이어를 도입한다.<br>\n",
    "input layer는 28*28개의 노드<br>\n",
    "hidden layer의 노드의 수는 자유롭게 설정해도 좋다.<br>\n",
    "output은 10개(0~9)로 설정한다.<br>\n",
    "test data를 예측하여 정확도를 최대가 되도록 학습하여라.<br>\n",
    "제출 시 test data의 정확도를 출력하여 제출하세요.<br>"
   ]
  },
  {
   "cell_type": "code",
   "execution_count": 1,
   "metadata": {},
   "outputs": [
    {
     "data": {
      "text/plain": [
       "Dataset MNIST\n",
       "    Number of datapoints: 10000\n",
       "    Root location: data\n",
       "    Split: Test\n",
       "    StandardTransform\n",
       "Transform: ToTensor()"
      ]
     },
     "execution_count": 1,
     "metadata": {},
     "output_type": "execute_result"
    }
   ],
   "source": [
    "import numpy as np\n",
    "import matplotlib.pyplot as plt\n",
    "import torch\n",
    "import torchvision\n",
    "\n",
    "train_data = torchvision.datasets.MNIST(\n",
    "    root = 'data',\n",
    "    train = True,                         \n",
    "    transform = torchvision.transforms.ToTensor(), \n",
    "    download = True,            \n",
    ")\n",
    "test_data = torchvision.datasets.MNIST(\n",
    "    root = 'data', \n",
    "    train = False, \n",
    "    transform = torchvision.transforms.ToTensor()\n",
    ")\n",
    "train_data\n",
    "\n",
    "test_data # 제출시 이 test 데이터에 대한 정확도를 출력하세요."
   ]
  },
  {
   "cell_type": "code",
   "execution_count": 2,
   "metadata": {},
   "outputs": [],
   "source": [
    "X=torch.flatten(test_data.data,start_dim=1).float()/255\n",
    "y=test_data.targets"
   ]
  },
  {
   "cell_type": "code",
   "execution_count": 3,
   "metadata": {},
   "outputs": [],
   "source": [
    "inp = 28*28\n",
    "hid = [256,128]\n",
    "outp = 10\n",
    "model = torch.nn.Sequential(\n",
    "    torch.nn.Linear(inp,hid[0]),\n",
    "    torch.nn.ReLU(),\n",
    "    torch.nn.Linear(hid[0],hid[1]),\n",
    "    torch.nn.ReLU(),\n",
    "    torch.nn.Linear(hid[1],outp),\n",
    "    torch.nn.Softmax(dim=1)\n",
    ")"
   ]
  },
  {
   "cell_type": "code",
   "execution_count": 4,
   "metadata": {},
   "outputs": [],
   "source": [
    "learning_rate = 0.01\n",
    "criterion = torch.nn.CrossEntropyLoss()\n",
    "optimizer = torch.optim.Adam(model.parameters(),lr=learning_rate)"
   ]
  },
  {
   "cell_type": "code",
   "execution_count": 5,
   "metadata": {},
   "outputs": [],
   "source": [
    "def train(model, criterion, optimizer, epoch, X, y):\n",
    "    for epo in range(epoch):\n",
    "        y_pred = model(X)\n",
    "        loss = criterion(y_pred,y)\n",
    "        optimizer.zero_grad()\n",
    "        loss.backward()\n",
    "        optimizer.step()\n",
    "        \n",
    "        if(epo%(epoch/10)==0):\n",
    "            prediction = y_pred.max(1)[1] # model 로 예측한 output 중 가장 큰 index\n",
    "            corrects = (prediction == y) # 예측값이 y 와 같은지 판별\n",
    "            accuracy = corrects.sum().float() / float( y.size(0) ) # y와 같은 data 의 개수를 y.size(0)로 나눠서 정확도 확인\n",
    "            print(epo, \"accu=\", accuracy.item()*100) # 총 10번 시행횟수와 정확도 확인\n",
    "    print(epo, \"accu=\", accuracy.item()*100) # 최종 정확도"
   ]
  },
  {
   "cell_type": "code",
   "execution_count": 6,
   "metadata": {},
   "outputs": [
    {
     "name": "stdout",
     "output_type": "stream",
     "text": [
      "0 accu= 10.54999977350235\n",
      "50 accu= 69.52999830245972\n",
      "100 accu= 79.07999753952026\n",
      "150 accu= 89.19000029563904\n",
      "200 accu= 98.96000027656555\n",
      "250 accu= 99.23999905586243\n",
      "300 accu= 99.29999709129333\n",
      "350 accu= 99.36000108718872\n",
      "400 accu= 99.37000274658203\n",
      "450 accu= 99.37000274658203\n",
      "499 accu= 99.37000274658203\n"
     ]
    }
   ],
   "source": [
    "train(model,criterion, optimizer, 500, X, y)"
   ]
  }
 ],
 "metadata": {
  "kernelspec": {
   "display_name": "Python 3",
   "language": "python",
   "name": "python3"
  },
  "language_info": {
   "codemirror_mode": {
    "name": "ipython",
    "version": 3
   },
   "file_extension": ".py",
   "mimetype": "text/x-python",
   "name": "python",
   "nbconvert_exporter": "python",
   "pygments_lexer": "ipython3",
   "version": "3.8.5"
  }
 },
 "nbformat": 4,
 "nbformat_minor": 4
}
