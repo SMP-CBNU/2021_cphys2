{
 "cells": [
  {
   "cell_type": "markdown",
   "metadata": {},
   "source": [
    "# 1. Titanic (Regression)<br>\n",
    "https://www.kaggle.com/c/titanic/overview<br>\n",
    "출력을 csv파일로 저장하여 함께 제출<br>\n",
    "submit predictions에 테스트해 볼 것!<br>\n",
    "어떠한 알고리즘을 사용하여도 무방함<br>\n",
    "참조: https://www.kaggle.com/alexisbcook/getting-started-with-titanic"
   ]
  },
  {
   "cell_type": "markdown",
   "metadata": {},
   "source": [
    "train dataset 으로 learning 후 test dataset 으로 정확도 확인"
   ]
  },
  {
   "cell_type": "code",
   "execution_count": 1,
   "metadata": {},
   "outputs": [],
   "source": [
    "import numpy as np \n",
    "import pandas as pd\n",
    "import re as re\n",
    "import torch\n",
    "import torchvision\n",
    "import torchvision.transforms as transforms"
   ]
  },
  {
   "cell_type": "code",
   "execution_count": 2,
   "metadata": {},
   "outputs": [],
   "source": [
    "train_df = pd.read_csv('./titanic/train.csv')\n",
    "test_df = pd.read_csv('./titanic/test.csv')\n",
    "full_data = [train_df, test_df]"
   ]
  },
  {
   "cell_type": "code",
   "execution_count": 3,
   "metadata": {
    "scrolled": false
   },
   "outputs": [
    {
     "name": "stdout",
     "output_type": "stream",
     "text": [
      "<class 'pandas.core.frame.DataFrame'>\n",
      "RangeIndex: 891 entries, 0 to 890\n",
      "Data columns (total 12 columns):\n",
      " #   Column       Non-Null Count  Dtype  \n",
      "---  ------       --------------  -----  \n",
      " 0   PassengerId  891 non-null    int64  \n",
      " 1   Survived     891 non-null    int64  \n",
      " 2   Pclass       891 non-null    int64  \n",
      " 3   Name         891 non-null    object \n",
      " 4   Sex          891 non-null    object \n",
      " 5   Age          714 non-null    float64\n",
      " 6   SibSp        891 non-null    int64  \n",
      " 7   Parch        891 non-null    int64  \n",
      " 8   Ticket       891 non-null    object \n",
      " 9   Fare         891 non-null    float64\n",
      " 10  Cabin        204 non-null    object \n",
      " 11  Embarked     889 non-null    object \n",
      "dtypes: float64(2), int64(5), object(5)\n",
      "memory usage: 83.7+ KB\n"
     ]
    }
   ],
   "source": [
    "train_df.info()"
   ]
  },
  {
   "cell_type": "code",
   "execution_count": 4,
   "metadata": {},
   "outputs": [
    {
     "data": {
      "text/html": [
       "<div>\n",
       "<style scoped>\n",
       "    .dataframe tbody tr th:only-of-type {\n",
       "        vertical-align: middle;\n",
       "    }\n",
       "\n",
       "    .dataframe tbody tr th {\n",
       "        vertical-align: top;\n",
       "    }\n",
       "\n",
       "    .dataframe thead th {\n",
       "        text-align: right;\n",
       "    }\n",
       "</style>\n",
       "<table border=\"1\" class=\"dataframe\">\n",
       "  <thead>\n",
       "    <tr style=\"text-align: right;\">\n",
       "      <th></th>\n",
       "      <th>PassengerId</th>\n",
       "      <th>Survived</th>\n",
       "      <th>Pclass</th>\n",
       "      <th>Name</th>\n",
       "      <th>Sex</th>\n",
       "      <th>Age</th>\n",
       "      <th>SibSp</th>\n",
       "      <th>Parch</th>\n",
       "      <th>Ticket</th>\n",
       "      <th>Fare</th>\n",
       "      <th>Cabin</th>\n",
       "      <th>Embarked</th>\n",
       "    </tr>\n",
       "  </thead>\n",
       "  <tbody>\n",
       "    <tr>\n",
       "      <th>0</th>\n",
       "      <td>1</td>\n",
       "      <td>0</td>\n",
       "      <td>3</td>\n",
       "      <td>Braund, Mr. Owen Harris</td>\n",
       "      <td>male</td>\n",
       "      <td>22.0</td>\n",
       "      <td>1</td>\n",
       "      <td>0</td>\n",
       "      <td>A/5 21171</td>\n",
       "      <td>7.2500</td>\n",
       "      <td>NaN</td>\n",
       "      <td>S</td>\n",
       "    </tr>\n",
       "    <tr>\n",
       "      <th>1</th>\n",
       "      <td>2</td>\n",
       "      <td>1</td>\n",
       "      <td>1</td>\n",
       "      <td>Cumings, Mrs. John Bradley (Florence Briggs Th...</td>\n",
       "      <td>female</td>\n",
       "      <td>38.0</td>\n",
       "      <td>1</td>\n",
       "      <td>0</td>\n",
       "      <td>PC 17599</td>\n",
       "      <td>71.2833</td>\n",
       "      <td>C85</td>\n",
       "      <td>C</td>\n",
       "    </tr>\n",
       "    <tr>\n",
       "      <th>2</th>\n",
       "      <td>3</td>\n",
       "      <td>1</td>\n",
       "      <td>3</td>\n",
       "      <td>Heikkinen, Miss. Laina</td>\n",
       "      <td>female</td>\n",
       "      <td>26.0</td>\n",
       "      <td>0</td>\n",
       "      <td>0</td>\n",
       "      <td>STON/O2. 3101282</td>\n",
       "      <td>7.9250</td>\n",
       "      <td>NaN</td>\n",
       "      <td>S</td>\n",
       "    </tr>\n",
       "    <tr>\n",
       "      <th>3</th>\n",
       "      <td>4</td>\n",
       "      <td>1</td>\n",
       "      <td>1</td>\n",
       "      <td>Futrelle, Mrs. Jacques Heath (Lily May Peel)</td>\n",
       "      <td>female</td>\n",
       "      <td>35.0</td>\n",
       "      <td>1</td>\n",
       "      <td>0</td>\n",
       "      <td>113803</td>\n",
       "      <td>53.1000</td>\n",
       "      <td>C123</td>\n",
       "      <td>S</td>\n",
       "    </tr>\n",
       "    <tr>\n",
       "      <th>4</th>\n",
       "      <td>5</td>\n",
       "      <td>0</td>\n",
       "      <td>3</td>\n",
       "      <td>Allen, Mr. William Henry</td>\n",
       "      <td>male</td>\n",
       "      <td>35.0</td>\n",
       "      <td>0</td>\n",
       "      <td>0</td>\n",
       "      <td>373450</td>\n",
       "      <td>8.0500</td>\n",
       "      <td>NaN</td>\n",
       "      <td>S</td>\n",
       "    </tr>\n",
       "    <tr>\n",
       "      <th>...</th>\n",
       "      <td>...</td>\n",
       "      <td>...</td>\n",
       "      <td>...</td>\n",
       "      <td>...</td>\n",
       "      <td>...</td>\n",
       "      <td>...</td>\n",
       "      <td>...</td>\n",
       "      <td>...</td>\n",
       "      <td>...</td>\n",
       "      <td>...</td>\n",
       "      <td>...</td>\n",
       "      <td>...</td>\n",
       "    </tr>\n",
       "    <tr>\n",
       "      <th>886</th>\n",
       "      <td>887</td>\n",
       "      <td>0</td>\n",
       "      <td>2</td>\n",
       "      <td>Montvila, Rev. Juozas</td>\n",
       "      <td>male</td>\n",
       "      <td>27.0</td>\n",
       "      <td>0</td>\n",
       "      <td>0</td>\n",
       "      <td>211536</td>\n",
       "      <td>13.0000</td>\n",
       "      <td>NaN</td>\n",
       "      <td>S</td>\n",
       "    </tr>\n",
       "    <tr>\n",
       "      <th>887</th>\n",
       "      <td>888</td>\n",
       "      <td>1</td>\n",
       "      <td>1</td>\n",
       "      <td>Graham, Miss. Margaret Edith</td>\n",
       "      <td>female</td>\n",
       "      <td>19.0</td>\n",
       "      <td>0</td>\n",
       "      <td>0</td>\n",
       "      <td>112053</td>\n",
       "      <td>30.0000</td>\n",
       "      <td>B42</td>\n",
       "      <td>S</td>\n",
       "    </tr>\n",
       "    <tr>\n",
       "      <th>888</th>\n",
       "      <td>889</td>\n",
       "      <td>0</td>\n",
       "      <td>3</td>\n",
       "      <td>Johnston, Miss. Catherine Helen \"Carrie\"</td>\n",
       "      <td>female</td>\n",
       "      <td>NaN</td>\n",
       "      <td>1</td>\n",
       "      <td>2</td>\n",
       "      <td>W./C. 6607</td>\n",
       "      <td>23.4500</td>\n",
       "      <td>NaN</td>\n",
       "      <td>S</td>\n",
       "    </tr>\n",
       "    <tr>\n",
       "      <th>889</th>\n",
       "      <td>890</td>\n",
       "      <td>1</td>\n",
       "      <td>1</td>\n",
       "      <td>Behr, Mr. Karl Howell</td>\n",
       "      <td>male</td>\n",
       "      <td>26.0</td>\n",
       "      <td>0</td>\n",
       "      <td>0</td>\n",
       "      <td>111369</td>\n",
       "      <td>30.0000</td>\n",
       "      <td>C148</td>\n",
       "      <td>C</td>\n",
       "    </tr>\n",
       "    <tr>\n",
       "      <th>890</th>\n",
       "      <td>891</td>\n",
       "      <td>0</td>\n",
       "      <td>3</td>\n",
       "      <td>Dooley, Mr. Patrick</td>\n",
       "      <td>male</td>\n",
       "      <td>32.0</td>\n",
       "      <td>0</td>\n",
       "      <td>0</td>\n",
       "      <td>370376</td>\n",
       "      <td>7.7500</td>\n",
       "      <td>NaN</td>\n",
       "      <td>Q</td>\n",
       "    </tr>\n",
       "  </tbody>\n",
       "</table>\n",
       "<p>891 rows × 12 columns</p>\n",
       "</div>"
      ],
      "text/plain": [
       "     PassengerId  Survived  Pclass  \\\n",
       "0              1         0       3   \n",
       "1              2         1       1   \n",
       "2              3         1       3   \n",
       "3              4         1       1   \n",
       "4              5         0       3   \n",
       "..           ...       ...     ...   \n",
       "886          887         0       2   \n",
       "887          888         1       1   \n",
       "888          889         0       3   \n",
       "889          890         1       1   \n",
       "890          891         0       3   \n",
       "\n",
       "                                                  Name     Sex   Age  SibSp  \\\n",
       "0                              Braund, Mr. Owen Harris    male  22.0      1   \n",
       "1    Cumings, Mrs. John Bradley (Florence Briggs Th...  female  38.0      1   \n",
       "2                               Heikkinen, Miss. Laina  female  26.0      0   \n",
       "3         Futrelle, Mrs. Jacques Heath (Lily May Peel)  female  35.0      1   \n",
       "4                             Allen, Mr. William Henry    male  35.0      0   \n",
       "..                                                 ...     ...   ...    ...   \n",
       "886                              Montvila, Rev. Juozas    male  27.0      0   \n",
       "887                       Graham, Miss. Margaret Edith  female  19.0      0   \n",
       "888           Johnston, Miss. Catherine Helen \"Carrie\"  female   NaN      1   \n",
       "889                              Behr, Mr. Karl Howell    male  26.0      0   \n",
       "890                                Dooley, Mr. Patrick    male  32.0      0   \n",
       "\n",
       "     Parch            Ticket     Fare Cabin Embarked  \n",
       "0        0         A/5 21171   7.2500   NaN        S  \n",
       "1        0          PC 17599  71.2833   C85        C  \n",
       "2        0  STON/O2. 3101282   7.9250   NaN        S  \n",
       "3        0            113803  53.1000  C123        S  \n",
       "4        0            373450   8.0500   NaN        S  \n",
       "..     ...               ...      ...   ...      ...  \n",
       "886      0            211536  13.0000   NaN        S  \n",
       "887      0            112053  30.0000   B42        S  \n",
       "888      2        W./C. 6607  23.4500   NaN        S  \n",
       "889      0            111369  30.0000  C148        C  \n",
       "890      0            370376   7.7500   NaN        Q  \n",
       "\n",
       "[891 rows x 12 columns]"
      ]
     },
     "execution_count": 4,
     "metadata": {},
     "output_type": "execute_result"
    }
   ],
   "source": [
    "train_df"
   ]
  },
  {
   "cell_type": "markdown",
   "metadata": {},
   "source": [
    "PassengerId 승객번호<br>\n",
    "Survived 생존<br>\n",
    "Pclass 좌석등급<br>\n",
    "Name 이름<br>\n",
    "Sex 성별<br>\n",
    "Age 나이<br>\n",
    "SibSp 형제/배우자 수<br>\n",
    "Parch 부모/자녀 수<br>\n",
    "Ticket 티켓 번호<br>\n",
    "Fare 티켓 요금<br>\n",
    "Cabin 반 번호<br>\n",
    "Embarked 항구 이름<br>\n",
    "Pclass, Sex, Age, SibSp, Parch, Fare 정도가 생존 여부에 중요하게 작용했을 거 같다<br>"
   ]
  },
  {
   "cell_type": "markdown",
   "metadata": {},
   "source": [
    "# Pclass"
   ]
  },
  {
   "cell_type": "code",
   "execution_count": 5,
   "metadata": {
    "scrolled": true
   },
   "outputs": [
    {
     "name": "stdout",
     "output_type": "stream",
     "text": [
      "   Pclass  Survived\n",
      "0       1  0.629630\n",
      "1       2  0.472826\n",
      "2       3  0.242363\n"
     ]
    }
   ],
   "source": [
    "print(train_df[['Pclass','Survived']].groupby(['Pclass'],as_index=False).mean())"
   ]
  },
  {
   "cell_type": "markdown",
   "metadata": {},
   "source": [
    "특등석, 일등석, 이등석 순으로 생존확률이 다른 걸 확인"
   ]
  },
  {
   "cell_type": "markdown",
   "metadata": {},
   "source": [
    "# Sex"
   ]
  },
  {
   "cell_type": "code",
   "execution_count": 6,
   "metadata": {
    "scrolled": true
   },
   "outputs": [
    {
     "name": "stdout",
     "output_type": "stream",
     "text": [
      "      Sex  Survived\n",
      "0  female  0.742038\n",
      "1    male  0.188908\n"
     ]
    }
   ],
   "source": [
    "print(train_df[[\"Sex\", \"Survived\"]].groupby(['Sex'],as_index=False).mean())"
   ]
  },
  {
   "cell_type": "markdown",
   "metadata": {},
   "source": [
    "여자의 경우가 생존확률이 높음"
   ]
  },
  {
   "cell_type": "markdown",
   "metadata": {},
   "source": [
    "# SibSp & Parch (Family size)"
   ]
  },
  {
   "cell_type": "code",
   "execution_count": 7,
   "metadata": {},
   "outputs": [
    {
     "name": "stdout",
     "output_type": "stream",
     "text": [
      "   SibSp  Survived\n",
      "0      0  0.345395\n",
      "1      1  0.535885\n",
      "2      2  0.464286\n",
      "3      3  0.250000\n",
      "4      4  0.166667\n",
      "5      5  0.000000\n",
      "6      8  0.000000\n"
     ]
    }
   ],
   "source": [
    "print(train_df[[\"SibSp\",\"Survived\"]].groupby(['SibSp'],as_index=False).mean())"
   ]
  },
  {
   "cell_type": "code",
   "execution_count": 8,
   "metadata": {},
   "outputs": [
    {
     "name": "stdout",
     "output_type": "stream",
     "text": [
      "   Parch  Survived\n",
      "0      0  0.343658\n",
      "1      1  0.550847\n",
      "2      2  0.500000\n",
      "3      3  0.600000\n",
      "4      4  0.000000\n",
      "5      5  0.200000\n",
      "6      6  0.000000\n"
     ]
    }
   ],
   "source": [
    "print(train_df[[\"Parch\",\"Survived\"]].groupby(['Parch'],as_index=False).mean())"
   ]
  },
  {
   "cell_type": "code",
   "execution_count": 9,
   "metadata": {
    "scrolled": false
   },
   "outputs": [
    {
     "name": "stdout",
     "output_type": "stream",
     "text": [
      "   FamilySize  Survived\n",
      "0           1  0.303538\n",
      "1           2  0.552795\n",
      "2           3  0.578431\n",
      "3           4  0.724138\n",
      "4           5  0.200000\n",
      "5           6  0.136364\n",
      "6           7  0.333333\n",
      "7           8  0.000000\n",
      "8          11  0.000000\n"
     ]
    }
   ],
   "source": [
    "for dataset in full_data: # train, test 모두 적용\n",
    "    dataset['FamilySize'] = dataset['SibSp'] + dataset['Parch'] + 1 # 가족 수 = 동반 부모/자식 + 동반 형제/배우자 + 본인 \n",
    "print (train_df[['FamilySize', 'Survived']].groupby(['FamilySize'], as_index=False).mean())"
   ]
  },
  {
   "cell_type": "markdown",
   "metadata": {},
   "source": [
    "동반한 가족 수에 따라 생존확률이 다름"
   ]
  },
  {
   "cell_type": "markdown",
   "metadata": {},
   "source": [
    "# Embarked"
   ]
  },
  {
   "cell_type": "code",
   "execution_count": 10,
   "metadata": {},
   "outputs": [
    {
     "name": "stdout",
     "output_type": "stream",
     "text": [
      "  Embarked  Survived\n",
      "0        C  0.553571\n",
      "1        Q  0.389610\n",
      "2        S  0.339009\n"
     ]
    }
   ],
   "source": [
    "for dataset in full_data:\n",
    "    dataset['Embarked'] = dataset['Embarked'].fillna('S')\n",
    "print (train_df[['Embarked', 'Survived']].groupby(['Embarked'], as_index=False).mean())"
   ]
  },
  {
   "cell_type": "markdown",
   "metadata": {},
   "source": [
    "승선한 항구가 C 일 경우 생존확률이 높음"
   ]
  },
  {
   "cell_type": "markdown",
   "metadata": {},
   "source": [
    "# Fare"
   ]
  },
  {
   "cell_type": "code",
   "execution_count": 11,
   "metadata": {},
   "outputs": [
    {
     "name": "stdout",
     "output_type": "stream",
     "text": [
      "   CategoricalFare  Survived\n",
      "0   (-0.001, 7.91]  0.197309\n",
      "1   (7.91, 14.454]  0.303571\n",
      "2   (14.454, 31.0]  0.454955\n",
      "3  (31.0, 512.329]  0.581081\n"
     ]
    }
   ],
   "source": [
    "for dataset in full_data:\n",
    "    dataset['Fare'] = dataset['Fare'].fillna(train_df['Fare'].median())\n",
    "train_df['CategoricalFare'] = pd.qcut(train_df['Fare'], 4)\n",
    "print (train_df[['CategoricalFare', 'Survived']].groupby(['CategoricalFare'], as_index=False).mean())"
   ]
  },
  {
   "cell_type": "markdown",
   "metadata": {},
   "source": [
    "지불한 비용을 4등분 하여 생존확률 비교(5등분 이상으로 나눌 경우 생존확률이 비슷한 그룹이 생김),<br> \n",
    "돈을 많이 낼 수록 생존확률 증가(Pclass 와 연관 있을 걸로 추정)"
   ]
  },
  {
   "cell_type": "markdown",
   "metadata": {},
   "source": [
    "# Age"
   ]
  },
  {
   "cell_type": "code",
   "execution_count": 12,
   "metadata": {},
   "outputs": [
    {
     "name": "stdout",
     "output_type": "stream",
     "text": [
      "  CategoricalAge  Survived\n",
      "0   (-0.08, 8.0]  0.666667\n",
      "1    (8.0, 16.0]  0.403509\n",
      "2   (16.0, 24.0]  0.355263\n",
      "3   (24.0, 32.0]  0.356828\n",
      "4   (32.0, 40.0]  0.381250\n",
      "5   (40.0, 48.0]  0.341176\n",
      "6   (48.0, 56.0]  0.466667\n",
      "7   (56.0, 64.0]  0.375000\n",
      "8   (64.0, 72.0]  0.000000\n",
      "9   (72.0, 80.0]  0.500000\n"
     ]
    },
    {
     "name": "stderr",
     "output_type": "stream",
     "text": [
      "<ipython-input-12-ca59a84f0f4e>:7: SettingWithCopyWarning: \n",
      "A value is trying to be set on a copy of a slice from a DataFrame\n",
      "\n",
      "See the caveats in the documentation: https://pandas.pydata.org/pandas-docs/stable/user_guide/indexing.html#returning-a-view-versus-a-copy\n",
      "  dataset['Age'][np.isnan(dataset['Age'])] = age_null_random_list\n"
     ]
    }
   ],
   "source": [
    "for dataset in full_data:\n",
    "    age_avg = dataset['Age'].mean() # 평균\n",
    "    age_std = dataset['Age'].std() # 편차\n",
    "    age_null_count = dataset['Age'].isnull().sum() # 누락항 갯수\n",
    "    \n",
    "    age_null_random_list = np.random.randint(age_avg - age_std, age_avg + age_std, size=age_null_count) # 나이 누락은 평균-편차, 평균+편차 사이 정수로 임의로 설정\n",
    "    dataset['Age'][np.isnan(dataset['Age'])] = age_null_random_list\n",
    "    dataset['Age'] = dataset['Age'].astype(int)\n",
    "    \n",
    "train_df['CategoricalAge'] = pd.cut(train_df['Age'], 10)\n",
    "\n",
    "print (train_df[['CategoricalAge', 'Survived']].groupby(['CategoricalAge'], as_index=False).mean())"
   ]
  },
  {
   "cell_type": "markdown",
   "metadata": {},
   "source": [
    "# Title"
   ]
  },
  {
   "cell_type": "code",
   "execution_count": 13,
   "metadata": {},
   "outputs": [
    {
     "name": "stdout",
     "output_type": "stream",
     "text": [
      "Sex       female  male\n",
      "Title                 \n",
      "Capt           0     1\n",
      "Col            0     2\n",
      "Countess       1     0\n",
      "Don            0     1\n",
      "Dr             1     6\n",
      "Jonkheer       0     1\n",
      "Lady           1     0\n",
      "Major          0     2\n",
      "Master         0    40\n",
      "Miss         182     0\n",
      "Mlle           2     0\n",
      "Mme            1     0\n",
      "Mr             0   517\n",
      "Mrs          125     0\n",
      "Ms             1     0\n",
      "Rev            0     6\n",
      "Sir            0     1\n"
     ]
    }
   ],
   "source": [
    "def get_title(name):\n",
    "    title_search = re.search(' ([A-Za-z]+)\\.', name)\n",
    "    # If the title exists, extract and return it.\n",
    "    if title_search:\n",
    "        return title_search.group(1)\n",
    "    return \"\"\n",
    "\n",
    "for dataset in full_data:\n",
    "    dataset['Title'] = dataset['Name'].apply(get_title)\n",
    "\n",
    "print(pd.crosstab(train_df['Title'], train_df['Sex']))"
   ]
  },
  {
   "cell_type": "markdown",
   "metadata": {},
   "source": [
    "호칭 분류(결혼 유무, 직업, 나이 추정)"
   ]
  },
  {
   "cell_type": "code",
   "execution_count": 14,
   "metadata": {},
   "outputs": [
    {
     "name": "stdout",
     "output_type": "stream",
     "text": [
      "    Title  Survived\n",
      "0      Dr  0.428571\n",
      "1  Master  0.575000\n",
      "2    Miss  0.702703\n",
      "3      Mr  0.156673\n",
      "4     Mrs  0.793651\n",
      "5    Rare  0.500000\n",
      "6     Rev  0.000000\n"
     ]
    }
   ],
   "source": [
    "for dataset in full_data:\n",
    "    dataset['Title'] = dataset['Title'].replace(['Lady', 'Countess','Capt', 'Col',\\\n",
    " \t'Don', 'Major', 'Sir', 'Jonkheer', 'Dona'], 'Rare')\n",
    "\n",
    "    dataset['Title'] = dataset['Title'].replace('Mlle', 'Miss')\n",
    "    dataset['Title'] = dataset['Title'].replace('Ms', 'Miss')\n",
    "    dataset['Title'] = dataset['Title'].replace('Mme', 'Mrs')\n",
    "\n",
    "print (train_df[['Title', 'Survived']].groupby(['Title'], as_index=False).mean())"
   ]
  },
  {
   "cell_type": "markdown",
   "metadata": {},
   "source": [
    "10명 이하인 호칭은 Rare 로 분류, 호칭에 따라 생존확률 다름. 성인남성의 생존확률이 가장 낮음"
   ]
  },
  {
   "cell_type": "code",
   "execution_count": 15,
   "metadata": {
    "scrolled": true
   },
   "outputs": [
    {
     "name": "stdout",
     "output_type": "stream",
     "text": [
      "   Survived  Pclass  Sex  Age  SibSp  Fare  Embarked  FamilySize  Title\n",
      "0         0       3    1    1      1     0         0           2      1\n",
      "1         1       1    0    2      1     3         1           2      3\n",
      "2         1       3    0    1      0     1         0           1      2\n",
      "3         1       1    0    2      1     3         0           2      3\n",
      "4         0       3    1    2      0     1         0           1      1\n",
      "5         0       3    1    1      0     1         2           1      1\n",
      "6         0       1    1    2      0     3         0           1      1\n",
      "7         0       3    1    0      3     2         0           5      4\n",
      "8         1       3    0    1      0     1         0           3      3\n",
      "9         1       2    0    0      1     2         1           2      3\n"
     ]
    }
   ],
   "source": [
    "for dataset in full_data:\n",
    "    # Mapping Sex\n",
    "    dataset['Sex'] = dataset['Sex'].map({'female': 0, 'male': 1}).astype(int)\n",
    "    \n",
    "    # Mapping titles\n",
    "    title_mapping = {\"Mr\": 1, \"Miss\": 2, \"Mrs\": 3, \"Master\": 4, \"Dr\": 5, \"Rev\":6, \"Rare\":7}\n",
    "    dataset['Title'] = dataset['Title'].map(title_mapping)\n",
    "    dataset['Title'] = dataset['Title'].fillna(0)\n",
    "    \n",
    "    # Mapping Embarked\n",
    "    embarked_mapping = {'S': 0, 'C': 1, 'Q': 2}\n",
    "    dataset['Embarked'] = dataset['Embarked'].map(embarked_mapping).astype(int)\n",
    "    \n",
    "    # Mapping Fare\n",
    "    dataset.loc[ dataset['Fare'] <= 7.91, 'Fare'] \t\t\t\t\t\t        = 0\n",
    "    dataset.loc[(dataset['Fare'] > 7.91) & (dataset['Fare'] <= 14.454), 'Fare'] = 1\n",
    "    dataset.loc[(dataset['Fare'] > 14.454) & (dataset['Fare'] <= 31), 'Fare']   = 2\n",
    "    dataset.loc[ dataset['Fare'] > 31, 'Fare'] \t\t\t\t\t\t\t        = 3\n",
    "    dataset['Fare'] = dataset['Fare'].astype(int)\n",
    "    \n",
    "    # Mapping Age\n",
    "    dataset.loc[ dataset['Age'] <= 16, 'Age'] \t\t\t\t\t       = 0\n",
    "    dataset.loc[(dataset['Age'] > 16) & (dataset['Age'] <= 32), 'Age'] = 1\n",
    "    dataset.loc[(dataset['Age'] > 32) & (dataset['Age'] <= 64), 'Age'] = 2\n",
    "    dataset.loc[ dataset['Age'] > 64, 'Age']                           = 3\n",
    "\n",
    "# Feature Selection\n",
    "drop_elements = ['PassengerId', 'Ticket', 'Cabin', 'Name', 'Parch'] # data 에서 필요없는 정보들 drop \n",
    "train = train_df.drop(drop_elements, axis = 1)\n",
    "train = train.drop(['CategoricalAge', 'CategoricalFare'], axis = 1)\n",
    "\n",
    "test  = test_df.drop(drop_elements, axis = 1)\n",
    "\n",
    "print (train.head(10))\n",
    "\n",
    "train = train.values\n",
    "test  = test.values"
   ]
  },
  {
   "cell_type": "code",
   "execution_count": 16,
   "metadata": {},
   "outputs": [
    {
     "data": {
      "text/plain": [
       "(array([[3, 1, 1, ..., 0, 2, 1],\n",
       "        [1, 0, 2, ..., 1, 2, 3],\n",
       "        [3, 0, 1, ..., 0, 1, 2],\n",
       "        ...,\n",
       "        [3, 0, 0, ..., 0, 4, 2],\n",
       "        [1, 1, 1, ..., 1, 1, 1],\n",
       "        [3, 1, 1, ..., 2, 1, 1]], dtype=int64),\n",
       " array([0, 1, 1, 1, 0, 0, 0, 0, 1, 1, 1, 1, 0, 0, 0, 1, 0, 1, 0, 1, 0, 1,\n",
       "        1, 1, 0, 1, 0, 0, 1, 0, 0, 1, 1, 0, 0, 0, 1, 0, 0, 1, 0, 0, 0, 1,\n",
       "        1, 0, 0, 1, 0, 0, 0, 0, 1, 1, 0, 1, 1, 0, 1, 0, 0, 1, 0, 0, 0, 1,\n",
       "        1, 0, 1, 0, 0, 0, 0, 0, 1, 0, 0, 0, 1, 1, 0, 1, 1, 0, 1, 1, 0, 0,\n",
       "        1, 0, 0, 0, 0, 0, 0, 0, 0, 1, 1, 0, 0, 0, 0, 0, 0, 0, 1, 1, 0, 1,\n",
       "        0, 0, 0, 0, 0, 0, 0, 0, 0, 0, 0, 0, 0, 1, 0, 1, 0, 1, 1, 0, 0, 0,\n",
       "        0, 1, 0, 0, 1, 0, 0, 0, 0, 1, 1, 0, 0, 0, 1, 0, 0, 0, 0, 1, 0, 0,\n",
       "        0, 0, 1, 0, 0, 0, 0, 1, 0, 0, 0, 1, 1, 0, 0, 0, 0, 0, 1, 0, 0, 0,\n",
       "        0, 0, 0, 0, 0, 0, 0, 1, 1, 0, 1, 1, 0, 0, 1, 0, 1, 1, 1, 1, 0, 0,\n",
       "        1, 0, 0, 0, 0, 0, 1, 0, 0, 1, 1, 1, 0, 1, 0, 0, 0, 1, 1, 0, 1, 0,\n",
       "        1, 0, 0, 0, 1, 0, 1, 0, 0, 0, 1, 0, 0, 1, 0, 0, 0, 1, 0, 0, 0, 1,\n",
       "        0, 0, 0, 0, 0, 1, 1, 0, 0, 0, 0, 0, 0, 1, 1, 1, 1, 1, 0, 1, 0, 0,\n",
       "        0, 0, 0, 1, 1, 1, 0, 1, 1, 0, 1, 1, 0, 0, 0, 1, 0, 0, 0, 1, 0, 0,\n",
       "        1, 0, 1, 1, 1, 1, 0, 0, 0, 0, 0, 0, 1, 1, 1, 1, 0, 1, 0, 1, 1, 1,\n",
       "        0, 1, 1, 1, 0, 0, 0, 1, 1, 0, 1, 1, 0, 0, 1, 1, 0, 1, 0, 1, 1, 1,\n",
       "        1, 0, 0, 0, 1, 0, 0, 1, 1, 0, 1, 1, 0, 0, 0, 1, 1, 1, 1, 0, 0, 0,\n",
       "        0, 0, 0, 0, 1, 0, 1, 1, 0, 0, 0, 0, 0, 0, 1, 1, 1, 1, 1, 0, 0, 0,\n",
       "        0, 1, 1, 0, 0, 0, 1, 1, 0, 1, 0, 0, 0, 1, 0, 1, 1, 1, 0, 1, 1, 0,\n",
       "        0, 0, 0, 1, 1, 0, 0, 0, 0, 0, 0, 1, 0, 0, 0, 0, 1, 0, 1, 0, 1, 1,\n",
       "        0, 0, 0, 0, 0, 0, 0, 0, 1, 1, 0, 1, 1, 1, 1, 0, 0, 1, 0, 1, 0, 0,\n",
       "        1, 0, 0, 1, 1, 1, 1, 1, 1, 1, 0, 0, 0, 1, 0, 1, 0, 1, 1, 0, 1, 0,\n",
       "        0, 0, 0, 0, 0, 0, 0, 1, 0, 0, 1, 1, 0, 0, 0, 0, 0, 1, 0, 0, 0, 1,\n",
       "        1, 0, 1, 0, 0, 1, 0, 0, 0, 0, 0, 0, 1, 0, 0, 0, 0, 0, 0, 0, 1, 0,\n",
       "        1, 1, 0, 1, 1, 0, 1, 1, 0, 0, 1, 0, 1, 0, 1, 0, 0, 1, 0, 0, 1, 0,\n",
       "        0, 0, 1, 0, 0, 1, 0, 1, 0, 1, 0, 1, 1, 0, 0, 1, 0, 0, 1, 1, 0, 1,\n",
       "        1, 0, 0, 1, 1, 0, 1, 0, 1, 1, 0, 0, 0, 0, 0, 0, 0, 0, 0, 1, 1, 1,\n",
       "        1, 1, 0, 0, 1, 1, 0, 1, 1, 1, 0, 0, 0, 1, 0, 1, 0, 0, 0, 1, 0, 0,\n",
       "        0, 0, 1, 0, 0, 1, 1, 0, 0, 0, 1, 0, 0, 1, 1, 1, 0, 0, 1, 0, 0, 1,\n",
       "        0, 0, 1, 0, 0, 1, 1, 0, 0, 0, 0, 1, 0, 0, 1, 0, 1, 0, 0, 1, 0, 0,\n",
       "        0, 0, 0, 1, 0, 1, 1, 1, 0, 1, 0, 1, 0, 1, 0, 1, 0, 0, 0, 0, 0, 0,\n",
       "        1, 0, 0, 0, 1, 0, 0, 0, 0, 1, 1, 0, 0, 1, 0, 0, 0, 1, 0, 1, 0, 1,\n",
       "        0, 0, 0, 0, 0, 0, 0, 1, 1, 1, 1, 0, 0, 0, 0, 1, 0, 0, 1, 1, 0, 0,\n",
       "        0, 0, 1, 1, 1, 1, 1, 0, 1, 0, 0, 0, 1, 1, 0, 0, 1, 0, 0, 0, 1, 0,\n",
       "        1, 1, 0, 0, 1, 0, 0, 0, 0, 0, 0, 1, 0, 0, 1, 0, 1, 0, 1, 0, 0, 1,\n",
       "        0, 0, 1, 1, 0, 0, 1, 1, 0, 0, 0, 1, 0, 0, 1, 1, 0, 1, 0, 0, 0, 0,\n",
       "        0, 0, 0, 0, 1, 0, 0, 1, 0, 1, 1, 1, 0, 0, 0, 0, 1, 0, 1, 0, 0, 0,\n",
       "        0, 0, 0, 0, 1, 1, 0, 0, 0, 1, 1, 1, 1, 0, 0, 0, 0, 1, 0, 0, 0, 0,\n",
       "        0, 0, 0, 0, 0, 0, 1, 1, 0, 1, 0, 0, 0, 1, 1, 1, 1, 1, 0, 0, 0, 1,\n",
       "        0, 0, 1, 1, 0, 0, 1, 0, 0, 0, 0, 0, 0, 1, 0, 0, 0, 1, 0, 1, 1, 1,\n",
       "        1, 0, 0, 0, 1, 0, 0, 1, 1, 0, 0, 1, 0, 1, 0, 0, 1, 1, 0, 0, 0, 1,\n",
       "        1, 0, 0, 0, 0, 0, 0, 1, 0, 1, 0], dtype=int64),\n",
       " 891,\n",
       " 8)"
      ]
     },
     "execution_count": 16,
     "metadata": {},
     "output_type": "execute_result"
    }
   ],
   "source": [
    "full_data = [train, test]\n",
    "X = full_data[0][0:, 1:], # Pclass ~ Title 까지 \n",
    "X_train = X[0]\n",
    "y_train = full_data[0][0:, 0] # Survived\n",
    "X_test = full_data[1][0:, 0:] # test 는 Survived 미포함\n",
    "X_train, y_train, len(X_train), len(X_train[0]) # 891명 7개 정보"
   ]
  },
  {
   "cell_type": "code",
   "execution_count": 17,
   "metadata": {},
   "outputs": [
    {
     "name": "stdout",
     "output_type": "stream",
     "text": [
      "[0.8866442199775533, 0.8327721661054994, 0.8496071829405163, 0.797979797979798]\n"
     ]
    },
    {
     "data": {
      "text/plain": [
       "(<BarContainer object of 4 artists>, None)"
      ]
     },
     "execution_count": 17,
     "metadata": {},
     "output_type": "execute_result"
    },
    {
     "data": {
      "image/png": "[encoded data removed]",
      "text/plain": [
       "<Figure size 432x288 with 1 Axes>"
      ]
     },
     "metadata": {
      "needs_background": "light"
     },
     "output_type": "display_data"
    }
   ],
   "source": [
    "import matplotlib.pyplot as plt\n",
    "from sklearn.linear_model import LogisticRegression\n",
    "from sklearn.svm import SVC, LinearSVC\n",
    "from sklearn.ensemble import RandomForestClassifier\n",
    "from sklearn.neighbors import KNeighborsClassifier\n",
    "\n",
    "svc = SVC()\n",
    "svc.fit(X_train,y_train)\n",
    "score_svc = svc.score(X_train,y_train)\n",
    "\n",
    "clf = RandomForestClassifier(n_estimators=100)\n",
    "clf.fit(X_train, y_train)\n",
    "score_clf = clf.score(X_train,y_train)\n",
    "\n",
    "knn = KNeighborsClassifier(n_neighbors = 3)\n",
    "knn.fit(X_train,y_train)\n",
    "score_knn = knn.score(X_train,y_train)\n",
    "\n",
    "logreg = LogisticRegression()\n",
    "logreg.fit(X_train, y_train)\n",
    "score_logreg = logreg.score(X_train, y_train)\n",
    "\n",
    "method = ['clf','svc','knn','logreg']\n",
    "SCORE = [ score_clf, score_svc, score_knn, score_logreg ]\n",
    "plt.bar(method, SCORE), print(SCORE)"
   ]
  },
  {
   "cell_type": "code",
   "execution_count": 18,
   "metadata": {},
   "outputs": [
    {
     "data": {
      "text/html": [
       "<div>\n",
       "<style scoped>\n",
       "    .dataframe tbody tr th:only-of-type {\n",
       "        vertical-align: middle;\n",
       "    }\n",
       "\n",
       "    .dataframe tbody tr th {\n",
       "        vertical-align: top;\n",
       "    }\n",
       "\n",
       "    .dataframe thead th {\n",
       "        text-align: right;\n",
       "    }\n",
       "</style>\n",
       "<table border=\"1\" class=\"dataframe\">\n",
       "  <thead>\n",
       "    <tr style=\"text-align: right;\">\n",
       "      <th></th>\n",
       "      <th>PassengerId</th>\n",
       "      <th>Survived</th>\n",
       "    </tr>\n",
       "  </thead>\n",
       "  <tbody>\n",
       "    <tr>\n",
       "      <th>0</th>\n",
       "      <td>892</td>\n",
       "      <td>0</td>\n",
       "    </tr>\n",
       "    <tr>\n",
       "      <th>1</th>\n",
       "      <td>893</td>\n",
       "      <td>1</td>\n",
       "    </tr>\n",
       "    <tr>\n",
       "      <th>2</th>\n",
       "      <td>894</td>\n",
       "      <td>0</td>\n",
       "    </tr>\n",
       "    <tr>\n",
       "      <th>3</th>\n",
       "      <td>895</td>\n",
       "      <td>0</td>\n",
       "    </tr>\n",
       "    <tr>\n",
       "      <th>4</th>\n",
       "      <td>896</td>\n",
       "      <td>1</td>\n",
       "    </tr>\n",
       "    <tr>\n",
       "      <th>...</th>\n",
       "      <td>...</td>\n",
       "      <td>...</td>\n",
       "    </tr>\n",
       "    <tr>\n",
       "      <th>413</th>\n",
       "      <td>1305</td>\n",
       "      <td>0</td>\n",
       "    </tr>\n",
       "    <tr>\n",
       "      <th>414</th>\n",
       "      <td>1306</td>\n",
       "      <td>0</td>\n",
       "    </tr>\n",
       "    <tr>\n",
       "      <th>415</th>\n",
       "      <td>1307</td>\n",
       "      <td>0</td>\n",
       "    </tr>\n",
       "    <tr>\n",
       "      <th>416</th>\n",
       "      <td>1308</td>\n",
       "      <td>0</td>\n",
       "    </tr>\n",
       "    <tr>\n",
       "      <th>417</th>\n",
       "      <td>1309</td>\n",
       "      <td>1</td>\n",
       "    </tr>\n",
       "  </tbody>\n",
       "</table>\n",
       "<p>418 rows × 2 columns</p>\n",
       "</div>"
      ],
      "text/plain": [
       "     PassengerId  Survived\n",
       "0            892         0\n",
       "1            893         1\n",
       "2            894         0\n",
       "3            895         0\n",
       "4            896         1\n",
       "..           ...       ...\n",
       "413         1305         0\n",
       "414         1306         0\n",
       "415         1307         0\n",
       "416         1308         0\n",
       "417         1309         1\n",
       "\n",
       "[418 rows x 2 columns]"
      ]
     },
     "execution_count": 18,
     "metadata": {},
     "output_type": "execute_result"
    }
   ],
   "source": [
    "y_pred=svc.predict(X_test) # test 데이터에서는 Support Vector Machines 가 RandomForest 보다 정확도가 더 높게 측정됨\n",
    "\n",
    "submission = pd.DataFrame({\n",
    "    \"PassengerId\":test_df[\"PassengerId\"],\n",
    "    \"Survived\":y_pred\n",
    "})\n",
    "submission"
   ]
  },
  {
   "cell_type": "code",
   "execution_count": 29,
   "metadata": {},
   "outputs": [],
   "source": [
    "submission.to_csv('titanic_svc.csv',index=False)"
   ]
  },
  {
   "cell_type": "markdown",
   "metadata": {},
   "source": [
    "주의! csv파일과 notebook 코드 모두를 제출하여야 한다."
   ]
  },
  {
   "cell_type": "markdown",
   "metadata": {},
   "source": [
    "# 2. Image classification with CNN \n",
    "cnn을 이용하여 다음 이미지를 분류하여라.\\\n",
    "인풋 데이터는 rgb 정보를 가지고 있다.\\\n",
    "코드, 결과, 보고서를 함께 제출하여야 한다."
   ]
  },
  {
   "cell_type": "code",
   "execution_count": 19,
   "metadata": {},
   "outputs": [],
   "source": [
    "import torch\n",
    "import torchvision\n",
    "import torchvision.transforms as transforms\n",
    "import torch.nn as nn"
   ]
  },
  {
   "cell_type": "code",
   "execution_count": 20,
   "metadata": {},
   "outputs": [],
   "source": [
    "device = 'cuda' if torch.cuda.is_available() else 'cpu'\n",
    "\n",
    "torch.manual_seed(777)\n",
    "\n",
    "if device == 'cuda':\n",
    "    torch.cuda.manual_seed_all(777) # gpu 사용"
   ]
  },
  {
   "cell_type": "code",
   "execution_count": 21,
   "metadata": {},
   "outputs": [
    {
     "name": "stdout",
     "output_type": "stream",
     "text": [
      "Files already downloaded and verified\n",
      "Files already downloaded and verified\n"
     ]
    },
    {
     "data": {
      "text/plain": [
       "(['airplane',\n",
       "  'automobile',\n",
       "  'bird',\n",
       "  'cat',\n",
       "  'deer',\n",
       "  'dog',\n",
       "  'frog',\n",
       "  'horse',\n",
       "  'ship',\n",
       "  'truck'],\n",
       " Dataset CIFAR10\n",
       "     Number of datapoints: 50000\n",
       "     Root location: ./data\n",
       "     Split: Train\n",
       "     StandardTransform\n",
       " Transform: ToTensor(),\n",
       " Dataset CIFAR10\n",
       "     Number of datapoints: 10000\n",
       "     Root location: ./data\n",
       "     Split: Test\n",
       "     StandardTransform\n",
       " Transform: ToTensor(),\n",
       " 100,\n",
       " 100)"
      ]
     },
     "execution_count": 21,
     "metadata": {},
     "output_type": "execute_result"
    }
   ],
   "source": [
    "train_batch_size = 500\n",
    "test_batch_size = 100\n",
    "\n",
    "trainset = torchvision.datasets.CIFAR10(\n",
    "    root='./data', \n",
    "    train=True,\n",
    "    download=True, \n",
    "    transform=torchvision.transforms.ToTensor()\n",
    ")\n",
    "train_loader = torch.utils.data.DataLoader(\n",
    "    trainset, \n",
    "    batch_size=train_batch_size,\n",
    "    shuffle=True\n",
    ")\n",
    "\n",
    "testset = torchvision.datasets.CIFAR10(\n",
    "    root='./data', \n",
    "    train=False,\n",
    "    download=True, \n",
    "    transform=torchvision.transforms.ToTensor()\n",
    ")\n",
    "test_loader = torch.utils.data.DataLoader(\n",
    "    testset, \n",
    "    batch_size=test_batch_size,\n",
    "    shuffle=False\n",
    ")\n",
    "\n",
    "classes = trainset.classes\n",
    "classes,trainset,testset,len(train_loader), len(test_loader) # 이미지 분류 명칭, trainset, testset, trainset의"
   ]
  },
  {
   "cell_type": "code",
   "execution_count": 22,
   "metadata": {},
   "outputs": [
    {
     "data": {
      "text/plain": [
       "(<matplotlib.image.AxesImage at 0x1fbdb87b700>, torch.Size([3, 32, 32]))"
      ]
     },
     "execution_count": 22,
     "metadata": {},
     "output_type": "execute_result"
    },
    {
     "data": {
      "image/png": "[encoded data removed]",
      "text/plain": [
       "<Figure size 432x288 with 1 Axes>"
      ]
     },
     "metadata": {
      "needs_background": "light"
     },
     "output_type": "display_data"
    }
   ],
   "source": [
    "import matplotlib.pyplot as plt\n",
    "\n",
    "images=train_loader.dataset[1][0]\n",
    "plt.imshow(images.permute(1, 2, 0)), images.size() # [3, 32, 32]: 3 -> RGB, 32x32 "
   ]
  },
  {
   "cell_type": "code",
   "execution_count": 23,
   "metadata": {},
   "outputs": [
    {
     "data": {
      "text/plain": [
       "cnn(\n",
       "  (conv1): Conv2d(3, 24, kernel_size=(3, 3), stride=(1, 1), padding=(1, 1))\n",
       "  (conv2): Conv2d(24, 48, kernel_size=(3, 3), stride=(1, 1), padding=(1, 1))\n",
       "  (conv3): Conv2d(48, 96, kernel_size=(3, 3), stride=(1, 1), padding=(1, 1))\n",
       "  (fc1): Linear(in_features=1536, out_features=512, bias=True)\n",
       "  (fc2): Linear(in_features=512, out_features=10, bias=True)\n",
       "  (dropout): Dropout(p=0.5, inplace=False)\n",
       ")"
      ]
     },
     "execution_count": 23,
     "metadata": {},
     "output_type": "execute_result"
    }
   ],
   "source": [
    "class cnn(nn.Module):\n",
    "    def __init__(self):\n",
    "        super(cnn,self).__init__()\n",
    "        self.conv1 = nn.Conv2d(3, 24, 3, stride = 1, padding=1) # in_channels 3 (RGB), out_channels 24, kernel size = 3*3, stride = 1 (커널 연산 간격 한칸), padding = 1 (input 테두리에 0 값 삽임으로 연산 후 사이즈 맞추기)\n",
    "        self.conv2 = nn.Conv2d(24, 48, 3, stride = 1, padding=1) # in_channels 24, out_channels 48, kernel size = 3*3, stride = 1, padding = 1\n",
    "        self.conv3 = nn.Conv2d(48, 96, 3, stride = 1, padding=1) # in_channels 48, out_chennels 96, kernel size = 3*3, stride = 1, padding = 1\n",
    "        self.fc1 = nn.Linear(4*4*96, 512) # input nodes 4*4*96 (max pooling 이후 4*4, convolution 이후 channel 96), hidden nodes 512\n",
    "        self.fc2 = nn.Linear(512, 10) # hidden nodes 512, hidden nodes 10\n",
    "        self.dropout = nn.Dropout(0.5) # random 으로 nodes 중 50% off \n",
    "        \n",
    "    def forward(self, x):\n",
    "        x = self.conv1(x) # x에 3*3 kernel 을 이용하여 convolution, channels 3 -> 24\n",
    "        x = nn.functional.relu(x) # 활성화 함수 ReLU 적용\n",
    "        x = nn.functional.max_pool2d(x,2) # kernel = 2, stride = 2 로 max pooling 하여 기존의 크기에서 1/2 크기로 resizing ( 32*32 -> 16*16 )\n",
    "        x = self.conv2(x) # pooing 후 3*3 kernel 을 이용하여 convolution, channels 24 -> 48\n",
    "        x = nn.functional.relu(x) # 활성화 함수 ReLU 적용\n",
    "        x = nn.functional.max_pool2d(x,2) # kernel = 2, stride = 2, max pooling, resizing ( 16*16 -> 8*8 )\n",
    "        x = self.conv3(x) # pooing 후 3*3 kernel 을 이용하여 convolution, channels 48 -> 96\n",
    "        x = nn.functional.relu(x) # 활성화 함수 ReLU 적용\n",
    "        x = nn.functional.max_pool2d(x,2) # kernel = 2, stride = 2, max pooling, resizing ( 8*8 -> 4*4 )\n",
    "        \n",
    "        x = torch.flatten(x,1) # x 선형으로 변환\n",
    "        x = self.fc1(x) # input layer에 가중치 곱하여 hidden layer \n",
    "        x = nn.functional.relu(x) # hidden layer에 활성화 함수 ReLU 적용\n",
    "        x = self.dropout(x) # hidden layer 50% random off\n",
    "        x = self.fc2(x) # hidden layer 에서 가중치 곱하여 output layer \n",
    "        x = nn.functional.softmax(x,dim=1) # output layer에 활성화 함수 softmax 적용\n",
    "        return x # x 반환\n",
    "model = cnn().to(device)\n",
    "model"
   ]
  },
  {
   "cell_type": "code",
   "execution_count": 24,
   "metadata": {},
   "outputs": [],
   "source": [
    "learning_rate = 0.0015 \n",
    "criterion = nn.CrossEntropyLoss().to(device) # loss를 CrossEntropyLoss 로 설정\n",
    "optimizer = torch.optim.Adam(model.parameters(), lr=learning_rate) # Adam 방식으로 최적화, learning rate = 0.0015"
   ]
  },
  {
   "cell_type": "code",
   "execution_count": 25,
   "metadata": {},
   "outputs": [],
   "source": [
    "def train_cnn(model, criterion, optimizer, data): # 학습 함수 정의\n",
    "    model.train() # dropout = True\n",
    "    for X,y in data: # 'data' 에서 X 와 y 추출\n",
    "        X = X.to(device) \n",
    "        y = y.to(device) # X,y GPU 연산에 맞게 변환\n",
    "        y_pred = model(X) # 예측값\n",
    "        loss = criterion(y_pred,y) # CrossEntropyLoss 로 구한 예측값과 targets 의 차이\n",
    "        \n",
    "        optimizer.zero_grad() #  optimizer 미분값 초기화\n",
    "        loss.backward() # backpropagation\n",
    "        optimizer.step() # 가중치 변환"
   ]
  },
  {
   "cell_type": "code",
   "execution_count": 26,
   "metadata": {},
   "outputs": [],
   "source": [
    "def evaluation(model, criterion, optimizer, data): # loss, accuracy 측정 함수 정의\n",
    "    model.eval() # 모든 요소 고려하여 측정하므로 dropout = False\n",
    "    t_loss = 0\n",
    "    accuracy = 0\n",
    "\n",
    "    with torch.no_grad(): # 학습 필요없음\n",
    "        for X, y in data: \n",
    "            X = X.to(device)\n",
    "            y = y.to(device)\n",
    "            y_pred = model(X)\n",
    "            t_loss += criterion(y_pred, y)\n",
    "            \n",
    "            prediction = y_pred.max(1)[1] # 가장 큰 index (예측결과)\n",
    "            corrects = (prediction == y) # 예측 결과와 targets 일치 확인\n",
    "            accuracy += corrects.sum().float() / float( y.size(0) ) # 총 일치 데이터 / 총 데이터 = 정확도\n",
    "    return t_loss.item(), accuracy.item()"
   ]
  },
  {
   "cell_type": "code",
   "execution_count": 27,
   "metadata": {
    "scrolled": true
   },
   "outputs": [
    {
     "name": "stdout",
     "output_type": "stream",
     "text": [
      "0 train_loss = 209.81248474121094 train_accu = 35.64799499511719 test_loss = 208.9813690185547 test_accu = 36.560001373291016\n",
      "10 train_loss = 179.7056884765625 train_accu = 66.61199951171875 test_loss = 182.8197479248047 test_accu = 63.21001052856445\n",
      "20 train_loss = 170.34719848632812 train_accu = 76.03799438476562 test_loss = 176.7256622314453 test_accu = 69.25\n",
      "30 train_loss = 164.26248168945312 train_accu = 82.06800842285156 test_loss = 173.00762939453125 test_accu = 73.12999725341797\n"
     ]
    }
   ],
   "source": [
    "nums_epoch = 30 # 시행횟수\n",
    "for epoch in range(nums_epoch+1):\n",
    "    train_cnn(model, criterion, optimizer, train_loader)\n",
    "    \n",
    "    if(epoch%10 == 0):\n",
    "        train_E, train_accu = evaluation(model, criterion, optimizer, train_loader)\n",
    "        test_E, test_accu = evaluation(model, criterion, optimizer, test_loader)\n",
    "        print(epoch, \"train_loss =\", train_E, \"train_accu =\", train_accu, \"test_loss =\", test_E, \"test_accu =\", test_accu)"
   ]
  },
  {
   "cell_type": "code",
   "execution_count": 28,
   "metadata": {},
   "outputs": [
    {
     "name": "stdout",
     "output_type": "stream",
     "text": [
      "Accuracy for class airplane is: 82.4 %\n",
      "Accuracy for class automobile is: 85.7 %\n",
      "Accuracy for class bird  is: 61.7 %\n",
      "Accuracy for class cat   is: 49.5 %\n",
      "Accuracy for class deer  is: 71.7 %\n",
      "Accuracy for class dog   is: 65.5 %\n",
      "Accuracy for class frog  is: 79.0 %\n",
      "Accuracy for class horse is: 73.4 %\n",
      "Accuracy for class ship  is: 84.6 %\n",
      "Accuracy for class truck is: 77.8 %\n"
     ]
    }
   ],
   "source": [
    "# 항목당 정확도\n",
    "correct_pred = {classname: 0 for classname in classes}\n",
    "total_pred = {classname: 0 for classname in classes}\n",
    "\n",
    "\n",
    "with torch.no_grad(): # 학습 필요없음\n",
    "    for X, y in test_loader: \n",
    "        X = X.to(device)\n",
    "        y = y.to(device)\n",
    "        y_pred = model(X)        \n",
    "        predictions = y_pred.max(1)[1] # 가장 큰 index (예측결과)\n",
    "        \n",
    "        for label, prediction in zip(y, predictions):\n",
    "            if label == prediction:\n",
    "                correct_pred[classes[label]] += 1\n",
    "            total_pred[classes[label]] += 1\n",
    "            \n",
    "for classname, correct_count in correct_pred.items():\n",
    "    accuracy = 100 * float(correct_count) / total_pred[classname]\n",
    "    print(\"Accuracy for class {:5s} is: {:.1f} %\".format(classname,\n",
    "                                                   accuracy))"
   ]
  },
  {
   "cell_type": "markdown",
   "metadata": {},
   "source": [
    "### 주의! 자신의 코드에 대한 설명과 결과에 대한 해석을 보고서로 함께 작성\n",
    "### 보고서는 코드 아래에 마크다운을 이용해서 작성할 것"
   ]
  },
  {
   "cell_type": "markdown",
   "metadata": {},
   "source": [
    "CNN을 작성할 때, CIFAR10 데이터는 RGB 3 channels 가 포함된 데이터이므로, 첫번째 convolution 에서 3 channels 에서 24 channels 로 합성곱을 하였고,\\\n",
    "nn.Conv2d 를 통해 channel 확장을 2번 더 반복하여 최종적으로 96 channels 이 되게끔 만들었다.\\\n",
    "channel이 기존의 32배가 된 만큼 input nodes도 증가하여 연산이 늘어났으므로, kernel = 2, stride = 2 인 maxpooling 을 3번 반복하여\\\n",
    "32\\*32 데이터를 4\\*4 로 줄여서 연산수를 줄였다.\\\n",
    "Vanishing Gradient Problem 을 피하기 위해서 활성화 함수를 Sigmoid 함수를 쓰지 않고 ReLU 함수를 썼고,\\\n",
    "overfitting 발생을 막기 위하여 hidden layer에 dropout(0.5)를 넣었다.\\\n",
    "최종적으로 Softmax 함수를 통해 총합이 1이 되고 범위 [0,1]을 갖는 값들이 output 에 나오게 했고,\\\n",
    "여기서 최댓값이 prediction 이 된다. 그리고 작성한 CNN class 를 model 로 명명하고 GPU로 연산이 가능하게 했다.\\\n",
    "learning rate = 0.0015로 설정하고, criterion은 CrossEntropyLoss 로, optimizer는 Adam 방식으로 설정하였고,\\\n",
    "학습 함수 train_cnn 을 정의할 때 model.train() 으로 dropout 이 켜진 상태로 학습이 진행되게 작성하였다. \\\n",
    "batch_size의 data에서 X,y 를 추출하여 model(X)로 target과 비교하여 loss를 구할 값을 추출하고,\\\n",
    "criterion으로 설정한 CrossEntropyLoss을 통해 loss를 구하여 backpropagation 과정을 거쳐 변수를 조정해주는 학습 함수를 정의했다.\\\n",
    "학습 함수와는 별개로 오차와 정확도를 구하기 위해서 evaluation 함수를 정의해줬다. \\\n",
    "이 때 적용되는 CNN은 모든 뉴런을 계산하여 예측할 것이므로 dropout이 꺼진 상태로 작동하게끔 model.eval() 으로 작성하였고,\\\n",
    "학습을 위한 함수가 아니므로 연산을 줄이기 위해서 with torch.no_grad()를 작성하였다.\\ \n",
    "학습한 모델로 예측한 값과 target의 값을 비교하여 t_loss 값을 정하였고, y_pred 중 가장 큰 index를 구하여 예측값을 구하고,\\\n",
    "예측값과 targets 을 비교하여 target 과 일치하는 총 갯수를 총 target 갯수로 나눠서 정확도를 구하였다.\\\n",
    "한 번의 epoch 에서 100개의 Iteration 이 있게 batch size를 설정하여서, 한번의 연산에서 가중치가 100번 업데이트 되게끔 했고,\\\n",
    "총 30번의 epoch 를 통해 test_accuracy = 73% 를 얻었다.\\\n",
    "\\\n",
    "최종적으로 classes 에 분류된 항목당 정확도를 구하는 코드를 통해 항목당 정확도를 구했다.\\\n",
    "몇 번 반복해서 시도해본 결과, 비행기, 자동차, 배, 트럭의 경우 항상 75% 이상의 정확도로 구분할 수 있었다.\\\n",
    "또한 개구리의 경우도 75% 전후의 높은 정확도로 구분할 수 있었는데, 이런 높은 정확도가 나온 배경은 특이한 형태가 원인으로 보인다.\\\n",
    "[사슴, 말] 과 [고양이,개] 두 분류는 유사한 형태로 인해 혼동되어 정확도에 영향을 끼치는 것으로 예상되고,\\\n",
    "새의 경우는 약 65% 정도로 좋지 않은 정확도를 유지했는데, 1만개의 데이터 중 새의 사진을 다 보진 않아서 정확히는 모르겠으나,\\ \n",
    "날개를 펼친 모습이나, 날고 있는 모습, 가만히 있는 모습 등 여러 모습의 데이터가 있어서 정확히 분류가 되지 않은게 아닌가 추측한다.\\\n",
    "그러므로, 새를 분류하기 위한 정확도를 올리기 위해서는 더 많은 종류의 새 사진을 이용하여 학습을 할 필요가 있을 거라 보이고,\\\n",
    "개와 고양이나, 사슴과 말 같이 유사한 형태의 항목을 혼동없이 구분하기 위해서는 더 높은 해상도의 이미지를 사용하면 지금보다 훨씬 더 좋은 정확도로 구분할 수 있으리라 생각한다.\n"
   ]
  }
 ],
 "metadata": {
  "kernelspec": {
   "display_name": "Python 3",
   "language": "python",
   "name": "python3"
  },
  "language_info": {
   "codemirror_mode": {
    "name": "ipython",
    "version": 3
   },
   "file_extension": ".py",
   "mimetype": "text/x-python",
   "name": "python",
   "nbconvert_exporter": "python",
   "pygments_lexer": "ipython3",
   "version": "3.8.5"
  }
 },
 "nbformat": 4,
 "nbformat_minor": 4
}
