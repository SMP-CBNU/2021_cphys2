{
 "cells": [
  {
   "cell_type": "markdown",
   "metadata": {},
   "source": [
    "# 1. fashion MNIST\n",
    "다음의 조건을 만족하면서 test 데이터에 대한 예측의 정확도를 최대로 높여라.<br><br>\n",
    "CNN을 이용한다. 그 외에 인공신경망 구조는 자유롭게 선택한다.<br>\n",
    "model은 클래스를 이용하여 직접 작성한다.<br>\n",
    "output은 10개(0~9)로 설정한다."
   ]
  },
  {
   "cell_type": "code",
   "execution_count": 1,
   "metadata": {},
   "outputs": [],
   "source": [
    "import numpy as np\n",
    "import matplotlib.pyplot as plt\n",
    "import torch\n",
    "import torchvision\n",
    "from torchvision.transforms import ToTensor\n",
    "\n",
    "train_data = torchvision.datasets.FashionMNIST(\n",
    "    root=\"data\",\n",
    "    train=True,\n",
    "    download=True,\n",
    "    transform=ToTensor()\n",
    ")\n",
    "\n",
    "test_data = torchvision.datasets.FashionMNIST(\n",
    "    root=\"data\",\n",
    "    train=False,\n",
    "    download=True,\n",
    "    transform=ToTensor()\n",
    ")"
   ]
  },
  {
   "cell_type": "code",
   "execution_count": 2,
   "metadata": {},
   "outputs": [
    {
     "data": {
      "text/plain": [
       "(28, 28)"
      ]
     },
     "execution_count": 2,
     "metadata": {},
     "output_type": "execute_result"
    }
   ],
   "source": [
    "len(test_data.data[0]),len(test_data.data[0][0])"
   ]
  },
  {
   "cell_type": "code",
   "execution_count": 3,
   "metadata": {},
   "outputs": [
    {
     "name": "stdout",
     "output_type": "stream",
     "text": [
      "tensor(9)\n",
      "tensor(2)\n",
      "tensor(1)\n",
      "tensor(1)\n",
      "tensor(6)\n",
      "tensor(1)\n",
      "tensor(4)\n",
      "tensor(6)\n",
      "tensor(5)\n",
      "tensor(7)\n"
     ]
    },
    {
     "data": {
      "image/png": "[encoded data removed]",
      "text/plain": [
       "<Figure size 1008x72 with 10 Axes>"
      ]
     },
     "metadata": {
      "needs_background": "light"
     },
     "output_type": "display_data"
    }
   ],
   "source": [
    "plt.figure(figsize=(14,1))\n",
    "for i in range(10):\n",
    "    plt.subplot(1, 10, i+1)\n",
    "    plt.imshow(test_data.data[i],cmap=plt.cm.gray);\n",
    "    print(test_data.targets[i])"
   ]
  },
  {
   "cell_type": "code",
   "execution_count": 4,
   "metadata": {},
   "outputs": [],
   "source": [
    "labels_map = {\n",
    "    0: \"T-Shirt\",\n",
    "    1: \"Trouser\",\n",
    "    2: \"Pullover\",\n",
    "    3: \"Dress\",\n",
    "    4: \"Coat\",\n",
    "    5: \"Sandal\",\n",
    "    6: \"Shirt\",\n",
    "    7: \"Sneaker\",\n",
    "    8: \"Bag\",\n",
    "    9: \"Ankle Boot\",\n",
    "}"
   ]
  },
  {
   "cell_type": "code",
   "execution_count": 5,
   "metadata": {},
   "outputs": [
    {
     "data": {
      "text/plain": [
       "100"
      ]
     },
     "execution_count": 5,
     "metadata": {},
     "output_type": "execute_result"
    }
   ],
   "source": [
    "batch_size = 100\n",
    "test_loader = torch.utils.data.DataLoader(\n",
    "    dataset = test_data,\n",
    "    batch_size = batch_size,\n",
    "    shuffle = False\n",
    ")\n",
    "len(test_loader)"
   ]
  },
  {
   "cell_type": "code",
   "execution_count": 6,
   "metadata": {},
   "outputs": [],
   "source": [
    "import torch.nn as nn\n",
    "class cnn(nn.Module): \n",
    "    def __init__(self): \n",
    "        super(cnn, self).__init__() \n",
    "        self.conv1 = nn.Conv2d(1, 24, 3, padding=1) \n",
    "        self.conv2 = nn.Conv2d(24, 48, 3, padding=1)\n",
    "        self.fc1 = nn.Linear(7*7*48, 256)\n",
    "        self.fc2 = nn.Linear(256, 10)\n",
    "\n",
    "    def forward(self, x):\n",
    "        x = self.conv1(x)\n",
    "        x = nn.functional.relu(x)\n",
    "        x = nn.functional.max_pool2d(x, 2)\n",
    "        x = self.conv2(x)\n",
    "        x = nn.functional.relu(x)\n",
    "        x = nn.functional.max_pool2d(x, 2)\n",
    "        \n",
    "        x = torch.flatten(x,1)\n",
    "        x = self.fc1(x)\n",
    "        x = nn.functional.relu(x)\n",
    "        x = self.fc2(x)\n",
    "        x = nn.functional.softmax(x,dim=1)\n",
    "        return x"
   ]
  },
  {
   "cell_type": "code",
   "execution_count": 7,
   "metadata": {},
   "outputs": [],
   "source": [
    "model = cnn()\n",
    "\n",
    "learning_rate = 0.003\n",
    "criterion = nn.CrossEntropyLoss()\n",
    "optimizer = torch.optim.Adam(model.parameters(),lr=learning_rate)"
   ]
  },
  {
   "cell_type": "code",
   "execution_count": 8,
   "metadata": {},
   "outputs": [],
   "source": [
    "def train(model, criterion, optimizer, data):\n",
    "    model.train() \n",
    "    for X,y in test_loader:\n",
    "        y_pred = model(X)\n",
    "        loss = criterion(y_pred,y)\n",
    "        \n",
    "        optimizer.zero_grad()\n",
    "        loss.backward()\n",
    "        optimizer.step()"
   ]
  },
  {
   "cell_type": "code",
   "execution_count": 9,
   "metadata": {},
   "outputs": [],
   "source": [
    "def evaluation(model, criterion, optimizer, data):\n",
    "    model.eval()\n",
    "    test_loss = 0\n",
    "    accuracy = 0\n",
    "\n",
    "    with torch.no_grad():\n",
    "        for X, y in test_loader:\n",
    "            y_pred = model(X)\n",
    "            test_loss += criterion(y_pred, y)\n",
    "            \n",
    "            prediction = y_pred.max(1)[1]\n",
    "            corrects = (prediction == y)\n",
    "            accuracy += corrects.sum().float() / float( y.size(0) )\n",
    "    return test_loss, accuracy        "
   ]
  },
  {
   "cell_type": "code",
   "execution_count": 10,
   "metadata": {},
   "outputs": [
    {
     "name": "stdout",
     "output_type": "stream",
     "text": [
      "0 loss= 171.53436279296875 accu= 74.70000457763672\n",
      "5 loss= 162.84149169921875 accu= 83.27999877929688\n",
      "10 loss= 159.284912109375 accu= 86.8899917602539\n",
      "15 loss= 156.91847229003906 accu= 89.1200180053711\n",
      "20 loss= 154.93003845214844 accu= 91.2300033569336\n",
      "25 loss= 153.11851501464844 accu= 92.9699935913086\n",
      "30 loss= 152.86163330078125 accu= 93.24000549316406\n"
     ]
    }
   ],
   "source": [
    "nums_epoch = 31\n",
    "for epoch in range(nums_epoch):\n",
    "    train(model, criterion, optimizer, test_loader)\n",
    "    \n",
    "    if(epoch%5==0):\n",
    "        E, accu = evaluation(model, criterion, optimizer, test_loader)\n",
    "        print(epoch, \"loss=\", E.item(), \"accu=\", accu.item())\n",
    "        if(epoch==30):\n",
    "            break"
   ]
  },
  {
   "cell_type": "markdown",
   "metadata": {},
   "source": [
    "# 2. 아래의 글을 읽고 500자 이내로 감상문을 작성하세요.<br>\n",
    "https://webzine.kps.or.kr/?p=5_view&idx=16537"
   ]
  },
  {
   "cell_type": "markdown",
   "metadata": {},
   "source": [
    "베이커 그룹은 딥마인드가 놓친 단백질 구조를 효율적으로 예측하는 아이디어를 캐치하여 알파폴드1을 단백질 구조 예측에 더 적합한 형태인 trRosetta 로 만들었습니다.<br>\n",
    "그런데, 딥마인드는 기존 알파폴드1 의 CNN 알고리즘을 Transformer 알고리즘으로 바꾸는 것만으로  비약적인 발전을 이뤄냈습니다.<br>\n",
    "많은 경우의 수를 효율적으로 고려하는 귀납적 방식이 고전적인 연역적 방식과는 비교도 못할 만큼 학문을 빠르게 발전시킬 수 있다는 사실을 알파폴드2가 보여준 것 입니다.<br>\n",
    "무서운 속도로 발전하는 딥 러닝 기술은 단백질 구조 추론과 같은 고전적인 방식으로는 발전이 더딘 분야에서는 특히 활약할 것으로 보이고<br>\n",
    "복잡한 시스템을 다루는 일이 많아진 현대 과학에서는 빠질 수 없는 방식이라 생각합니다.<br>\n",
    "그렇지만, 딥 러닝으로 많은 사실을 예측할 수 있다고 해도, 왜 그렇게 되는지를 설명하지 못하면 학문은 발전할 수 없다고 생각합니다.<br>\n",
    "현상을 이해하는 속도가 딥 러닝의 발전에 맞춰 갈 순 없지만, 딥 러닝의 발전 속도에 감동하여 이해하는 것을 가벼이 여기지 않게 경각심을 가져야겠다고 생각합니다."
   ]
  }
 ],
 "metadata": {
  "kernelspec": {
   "display_name": "Python 3",
   "language": "python",
   "name": "python3"
  },
  "language_info": {
   "codemirror_mode": {
    "name": "ipython",
    "version": 3
   },
   "file_extension": ".py",
   "mimetype": "text/x-python",
   "name": "python",
   "nbconvert_exporter": "python",
   "pygments_lexer": "ipython3",
   "version": "3.8.5"
  }
 },
 "nbformat": 4,
 "nbformat_minor": 4
}
